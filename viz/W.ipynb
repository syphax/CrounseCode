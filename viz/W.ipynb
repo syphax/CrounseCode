{
 "cells": [
  {
   "cell_type": "markdown",
   "id": "0f21638d-f12e-470d-bb4d-f21ffb376529",
   "metadata": {},
   "source": [
    "# Setup"
   ]
  },
  {
   "cell_type": "code",
   "execution_count": null,
   "id": "92da8a33-50f4-4991-9326-469ffe472e84",
   "metadata": {},
   "outputs": [],
   "source": [
    "# !pip install yfinance\n",
    "# !pip install altair"
   ]
  },
  {
   "cell_type": "code",
   "execution_count": null,
   "id": "d0753b80-020a-450c-a226-fab1ca7cc57e",
   "metadata": {},
   "outputs": [],
   "source": [
    "import pandas as pd\n",
    "import altair as alt\n",
    "import yfinance as yf\n",
    "\n",
    "import matplotlib.pyplot as plt\n",
    "%matplotlib inline"
   ]
  },
  {
   "cell_type": "markdown",
   "id": "525f0540-0ba3-4b22-b87b-a22382d0a862",
   "metadata": {},
   "source": [
    "# Get Data"
   ]
  },
  {
   "cell_type": "code",
   "execution_count": null,
   "id": "f04aeb7f-f7f4-43e4-bb46-07da28bacb85",
   "metadata": {},
   "outputs": [],
   "source": []
  },
  {
   "cell_type": "code",
   "execution_count": null,
   "id": "b7543dbe-15a4-4f1d-9a16-e2aa9bd25de0",
   "metadata": {},
   "outputs": [],
   "source": [
    "# Get the data for the stock W\n",
    "ticker = yf.download('W','2018-01-01','2022-12-31')\n",
    "\n",
    "# Plot the close price of the W\n",
    "ticker['Adj Close'].plot()\n",
    "plt.show()"
   ]
  },
  {
   "cell_type": "code",
   "execution_count": null,
   "id": "5501ed7b-6d3e-4db8-953b-5b28651bfddb",
   "metadata": {},
   "outputs": [],
   "source": [
    "ticker.sample(5)"
   ]
  },
  {
   "cell_type": "markdown",
   "id": "45c62853-22b8-4b33-8f50-ebd668a070ae",
   "metadata": {},
   "source": [
    "# Data Prep"
   ]
  },
  {
   "cell_type": "code",
   "execution_count": null,
   "id": "324d5ead-f24d-494a-a187-a0b3147c6966",
   "metadata": {},
   "outputs": [],
   "source": []
  },
  {
   "cell_type": "code",
   "execution_count": null,
   "id": "1d942277-b8c4-4323-923c-d8d6b227e8ab",
   "metadata": {},
   "outputs": [],
   "source": [
    "# Source: https://infohub.corp.wayfair.com/pages/viewpage.action?pageId=31819745\n",
    "\n",
    "df_trading_windows = pd.DataFrame([\n",
    "    ['2019-11-04', '2019-11-29'], \n",
    "    ['2020-03-03', '2020-03-06'], \n",
    "    ['2020-05-07', '2020-05-29'],\n",
    "    ['2020-08-07', '2020-08-31'], \n",
    "    ['2020-11-09', '2020-11-30'], \n",
    "    ['2021-02-26', '2021-03-05'], \n",
    "    ['2021-05-07', '2021-05-31'], \n",
    "    ['2021-08-06', '2021-08-31'],\n",
    "    ['2021-11-05', '2021-11-30'],\n",
    "    ['2022-02-25', '2022-03-07']\n",
    "], columns=['dt_start', 'dt_end'], index=['2019Q3', '2019Q4', '2020Q1', '2020Q2', '2020Q3', '2020Q4', '2021Q1', '2021Q2', '2021Q3', '2021Q4'])\n",
    "df_trading_windows\n",
    "\n",
    "df_trading_windows['dt_start'] = pd.to_datetime(df_trading_windows['dt_start'])\n",
    "df_trading_windows['dt_end'] = pd.to_datetime(df_trading_windows['dt_end'])\n"
   ]
  },
  {
   "cell_type": "code",
   "execution_count": null,
   "id": "c25ff79e-2ccf-48bb-985c-aa7ff894156c",
   "metadata": {},
   "outputs": [],
   "source": [
    "df_trading_windows.dtypes"
   ]
  },
  {
   "cell_type": "code",
   "execution_count": null,
   "id": "fb66c50c-17ab-4579-bad1-76f85ea409f4",
   "metadata": {},
   "outputs": [],
   "source": [
    "# This is not elegant but optimizes for developer time\n",
    "\n",
    "for i, period in df_trading_windows.iterrows():\n",
    "    ticker.loc[period['dt_start']:period['dt_end'], 'period'] = '{}: {:%Y-%m-%d} - {:%Y-%m-%d}'.format(period.name, period['dt_start'], period['dt_end'])\n",
    "    ticker.loc[period['dt_start']:period['dt_end'],  'day_td'] = ticker.loc[period['dt_start']:period['dt_end']].index - period['dt_start'] \n",
    "    ticker.loc[period['dt_start']:period['dt_end'],  'norm_close'] = ticker.loc[period['dt_start']:period['dt_end'], 'Close'] / ticker.loc[period['dt_start'], 'Open'] - 1.0\n",
    "    ticker.loc[period['dt_start']:period['dt_end'],  'norm_high'] = ticker.loc[period['dt_start']:period['dt_end'], 'High'] / ticker.loc[period['dt_start'], 'Open'] - 1.0\n",
    "\n",
    "ticker['day'] = ticker['day_td'].dt.days + 1"
   ]
  },
  {
   "cell_type": "code",
   "execution_count": null,
   "id": "483f2125-ef15-45ec-b691-acc364d5c1d7",
   "metadata": {},
   "outputs": [],
   "source": [
    "ticker[~ticker['period'].isna()].tail()\n"
   ]
  },
  {
   "cell_type": "markdown",
   "id": "4d4b1d7d-570b-4c7b-a39b-5292c0b07ec0",
   "metadata": {},
   "source": [
    "# Charts"
   ]
  },
  {
   "cell_type": "code",
   "execution_count": null,
   "id": "c390b4be-01b7-4464-b848-86fa9c5ae580",
   "metadata": {},
   "outputs": [],
   "source": [
    "df_chart = ticker.loc[~ticker['period'].isna(), ['Open', 'Close', 'norm_high', 'norm_close', 'period', 'day']]"
   ]
  },
  {
   "cell_type": "markdown",
   "id": "8c13c920-da1e-42cf-99b3-4d1841e7d0b7",
   "metadata": {},
   "source": [
    "## Daily Close vs. Window Open"
   ]
  },
  {
   "cell_type": "code",
   "execution_count": null,
   "id": "a9ff28f1-503d-44bf-b453-72245f16e9bf",
   "metadata": {},
   "outputs": [],
   "source": [
    "\n",
    "ch_close = alt.Chart(df_chart).mark_line().encode(\n",
    "    x=alt.X(\"day:O\", axis=alt.Axis(title='Calendar Days')),\n",
    "    y=alt.Y(\"norm_close:Q\", axis=alt.Axis(title='Daily Close vs. Day 1 Open', format='%')),\n",
    "    color=alt.Color(\"period:N\", scale=alt.Scale(scheme='tableau20')),\n",
    "    strokeWidth=alt.condition(\n",
    "        \"datum.period == '2021Q4: 2022-02-25 - 2022-03-07'\",\n",
    "        alt.value(5), alt.value(2))\n",
    ").properties(title=\"W\") \n",
    "\n",
    "ch_close"
   ]
  },
  {
   "cell_type": "code",
   "execution_count": null,
   "id": "56e87527-ef52-448c-bb22-c997f44d31b8",
   "metadata": {},
   "outputs": [],
   "source": [
    "\n",
    "ch_close = alt.Chart(df_chart).mark_line().encode(\n",
    "    x=alt.X(\"day:O\", axis=alt.Axis(title='Calendar Days')),\n",
    "    y=alt.Y(\"norm_close:Q\", axis=alt.Axis(title='Daily Close vs. Day 1 Open', format='%')),\n",
    "    row=alt.Row(\"period:N\")\n",
    "    #, color=alt.Color(\"norm_close:Q\")\n",
    ").properties(title=\"W\", height=50, width=400)\n",
    "\n",
    "ch_close"
   ]
  },
  {
   "cell_type": "markdown",
   "id": "9f13317e-4931-413a-b014-33107d1f00fe",
   "metadata": {},
   "source": [
    "## Daily High vs. Window Open"
   ]
  },
  {
   "cell_type": "code",
   "execution_count": null,
   "id": "d36d277f-3ac6-484d-932f-1ee95b48f594",
   "metadata": {},
   "outputs": [],
   "source": [
    "\n",
    "ch_high = alt.Chart(df_chart).mark_line().encode(\n",
    "    x=alt.X(\"day:O\", axis=alt.Axis(title='Calendar Days')),\n",
    "    y=alt.Y(\"norm_high:Q\", axis=alt.Axis(title='Daily High vs. Day 1 Open', format='%')),\n",
    "    color=alt.Color(\"period:N\", scale=alt.Scale(scheme='tableau20')),\n",
    "    strokeWidth=alt.condition(\n",
    "        \"datum.period == '2021Q3: 2021-11-05 - 2021-11-30'\",\n",
    "        alt.value(5), alt.value(2))\n",
    ")\n",
    "\n",
    "ch_high"
   ]
  },
  {
   "cell_type": "code",
   "execution_count": null,
   "id": "cde8a4fe-90ed-4470-800f-c4b4000406c0",
   "metadata": {},
   "outputs": [],
   "source": []
  }
 ],
 "metadata": {
  "environment": {
   "kernel": "python3",
   "name": "common-cpu.m87",
   "type": "gcloud",
   "uri": "gcr.io/deeplearning-platform-release/base-cpu:m87"
  },
  "kernelspec": {
   "display_name": "Python 3",
   "language": "python",
   "name": "python3"
  },
  "language_info": {
   "codemirror_mode": {
    "name": "ipython",
    "version": 3
   },
   "file_extension": ".py",
   "mimetype": "text/x-python",
   "name": "python",
   "nbconvert_exporter": "python",
   "pygments_lexer": "ipython3",
   "version": "3.7.12"
  }
 },
 "nbformat": 4,
 "nbformat_minor": 5
}
