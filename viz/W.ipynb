{
 "cells": [
  {
   "cell_type": "markdown",
   "metadata": {},
   "source": [
    "# Setup"
   ]
  },
  {
   "cell_type": "code",
   "execution_count": null,
   "metadata": {},
   "outputs": [],
   "source": [
    "#!pip install yfinance\n",
    "# !pip install altair"
   ]
  },
  {
   "cell_type": "code",
   "execution_count": null,
   "metadata": {},
   "outputs": [],
   "source": [
    "import pandas as pd\n",
    "import altair as alt\n",
    "import yfinance as yf\n",
    "\n",
    "import matplotlib.pyplot as plt\n",
    "%matplotlib inline"
   ]
  },
  {
   "cell_type": "markdown",
   "metadata": {},
   "source": [
    "# Get Data"
   ]
  },
  {
   "cell_type": "code",
   "execution_count": null,
   "metadata": {},
   "outputs": [],
   "source": [
    "# Get the data for the stock W\n",
    "ticker = yf.download('W','2018-01-01','2022-12-31')\n",
    "\n",
    "# Plot the close price of the W\n",
    "ticker['Adj Close'].plot()\n",
    "plt.show()"
   ]
  },
  {
   "cell_type": "code",
   "execution_count": null,
   "metadata": {},
   "outputs": [],
   "source": [
    "ticker.sample(5)"
   ]
  },
  {
   "cell_type": "markdown",
   "metadata": {},
   "source": [
    "# Data Prep"
   ]
  },
  {
   "cell_type": "code",
   "execution_count": null,
   "metadata": {},
   "outputs": [],
   "source": []
  },
  {
   "cell_type": "code",
   "execution_count": null,
   "metadata": {},
   "outputs": [],
   "source": [
    "# Source: https://infohub.corp.wayfair.com/pages/viewpage.action?pageId=31819745\n",
    "# (Not publicly accessible!)\n",
    "\n",
    "df_trading_windows = pd.DataFrame([\n",
    "    ['2019-11-04', '2019-11-29'], \n",
    "    ['2020-03-03', '2020-03-06'], \n",
    "    ['2020-05-07', '2020-05-29'],\n",
    "    ['2020-08-07', '2020-08-31'], \n",
    "    ['2020-11-09', '2020-11-30'], \n",
    "    ['2021-02-26', '2021-03-05'], \n",
    "    ['2021-05-07', '2021-05-31'], \n",
    "    ['2021-08-06', '2021-08-31'],\n",
    "    ['2021-11-05', '2021-11-30'],\n",
    "    ['2022-02-25', '2022-03-07'],\n",
    "    ['2022-05-06', '2022-05-31']\n",
    "    # ['2022-08-05', '2022-08-31']\n",
    "    # ['2022-05-06', '2022-05-31']\n",
    "    # ['2022-11-04', '2022-11-30']\n",
    "], columns=['dt_start', 'dt_end'], index=[\n",
    "    '2019Q3', '2019Q4',\n",
    "    '2020Q1', '2020Q2', '2020Q3', '2020Q4',\n",
    "    '2021Q1', '2021Q2', '2021Q3', '2021Q4',\n",
    "    '2022Q1' #, '2022Q2', '2022Q3'\n",
    "])\n",
    "\n",
    "df_trading_windows\n",
    "\n",
    "df_trading_windows['dt_start'] = pd.to_datetime(df_trading_windows['dt_start'])\n",
    "df_trading_windows['dt_end'] = pd.to_datetime(df_trading_windows['dt_end'])\n"
   ]
  },
  {
   "cell_type": "code",
   "execution_count": null,
   "metadata": {},
   "outputs": [],
   "source": [
    "df_trading_windows.dtypes"
   ]
  },
  {
   "cell_type": "code",
   "execution_count": null,
   "metadata": {},
   "outputs": [],
   "source": [
    "# This is not elegant but optimizes for developer time\n",
    "\n",
    "for i, period in df_trading_windows.iterrows():\n",
    "    ticker.loc[period['dt_start']:period['dt_end'], 'period'] = '{}: {:%Y-%m-%d} - {:%Y-%m-%d}'.format(period.name, period['dt_start'], period['dt_end'])\n",
    "    ticker.loc[period['dt_start']:period['dt_end'],  'day_td'] = ticker.loc[period['dt_start']:period['dt_end']].index - period['dt_start'] \n",
    "    ticker.loc[period['dt_start']:period['dt_end'],  'norm_close'] = ticker.loc[period['dt_start']:period['dt_end'], 'Close'] / ticker.loc[period['dt_start'], 'Open'] - 1.0\n",
    "    ticker.loc[period['dt_start']:period['dt_end'],  'norm_high'] = ticker.loc[period['dt_start']:period['dt_end'], 'High'] / ticker.loc[period['dt_start'], 'Open'] - 1.0\n",
    "\n",
    "ticker['day'] = ticker['day_td'].dt.days + 1"
   ]
  },
  {
   "cell_type": "code",
   "execution_count": null,
   "metadata": {},
   "outputs": [],
   "source": [
    "ticker[~ticker['period'].isna()].tail()\n"
   ]
  },
  {
   "cell_type": "code",
   "execution_count": null,
   "metadata": {},
   "outputs": [],
   "source": [
    "most_recent_entry = ticker.iloc[-1]['period']"
   ]
  },
  {
   "cell_type": "markdown",
   "metadata": {},
   "source": [
    "# Charts"
   ]
  },
  {
   "cell_type": "code",
   "execution_count": null,
   "metadata": {},
   "outputs": [],
   "source": [
    "df_chart = ticker.loc[~ticker['period'].isna(), ['Open', 'Close', 'norm_high', 'norm_close', 'period', 'day']]"
   ]
  },
  {
   "cell_type": "markdown",
   "metadata": {},
   "source": [
    "## Daily Close vs. Window Open"
   ]
  },
  {
   "cell_type": "code",
   "execution_count": null,
   "metadata": {},
   "outputs": [],
   "source": [
    "\n",
    "ch_close = alt.Chart(df_chart).mark_line().encode(\n",
    "    x=alt.X(\"day:O\", axis=alt.Axis(title='Calendar Days')),\n",
    "    y=alt.Y(\"norm_close:Q\", axis=alt.Axis(title='Daily Close vs. Day 1 Open', format='%')),\n",
    "    color=alt.Color(\"period:N\", scale=alt.Scale(scheme='tableau20')),\n",
    "    strokeWidth=alt.condition(\n",
    "        \"datum.period == {'2022Q1: 2022-05-06 - 2022-05-31'}\",\n",
    "        alt.value(5), alt.value(2))\n",
    ").properties(title=\"W\") \n",
    "\n",
    "ch_close"
   ]
  },
  {
   "cell_type": "code",
   "execution_count": null,
   "metadata": {
    "scrolled": false
   },
   "outputs": [],
   "source": [
    "\n",
    "ch_close = alt.Chart(df_chart).mark_line().encode(\n",
    "    x=alt.X(\"day:O\", axis=alt.Axis(title='Calendar Days')),\n",
    "    y=alt.Y(\"norm_close:Q\", axis=alt.Axis(title='Daily Close vs. Day 1 Open', format='%')),\n",
    "    row=alt.Row(\"period:N\")\n",
    "    #, color=alt.Color(\"norm_close:Q\")\n",
    ").properties(title=\"W\", height=100, width=400)\n",
    "\n",
    "ch_close"
   ]
  },
  {
   "cell_type": "markdown",
   "metadata": {},
   "source": [
    "## Daily High vs. Window Open"
   ]
  },
  {
   "cell_type": "code",
   "execution_count": null,
   "metadata": {},
   "outputs": [],
   "source": [
    "\n",
    "ch_high = alt.Chart(df_chart).mark_line().encode(\n",
    "    x=alt.X(\"day:O\", axis=alt.Axis(title='Calendar Days')),\n",
    "    y=alt.Y(\"norm_high:Q\", axis=alt.Axis(title='Daily High vs. Day 1 Open', format='%')),\n",
    "    color=alt.Color(\"period:N\", scale=alt.Scale(scheme='tableau20')),\n",
    "    strokeWidth=alt.condition(\n",
    "        \"datum.period == '2022Q1: 2022-05-06 - 2022-05-31'\",\n",
    "        alt.value(5), alt.value(2))\n",
    ")\n",
    "\n",
    "ch_high"
   ]
  },
  {
   "cell_type": "code",
   "execution_count": null,
   "metadata": {},
   "outputs": [],
   "source": []
  }
 ],
 "metadata": {
  "environment": {
   "kernel": "python3",
   "name": "common-cpu.m87",
   "type": "gcloud",
   "uri": "gcr.io/deeplearning-platform-release/base-cpu:m87"
  },
  "kernelspec": {
   "display_name": "Python 3",
   "language": "python",
   "name": "python3"
  },
  "language_info": {
   "codemirror_mode": {
    "name": "ipython",
    "version": 3
   },
   "file_extension": ".py",
   "mimetype": "text/x-python",
   "name": "python",
   "nbconvert_exporter": "python",
   "pygments_lexer": "ipython3",
   "version": "3.8.5"
  }
 },
 "nbformat": 4,
 "nbformat_minor": 5
}
