{
 "cells": [
  {
   "cell_type": "markdown",
   "metadata": {},
   "source": [
    "# Vermont Geo-Data\n",
    "\n",
    "* Q1: How much of our trail is on our land?\n",
    "\n",
    "Data Sources:\n",
    "\n",
    "https://geodata.vermont.gov/datasets/09cf47e1cf82465e99164762a04f3ce6_0/explore?location=43.863030%2C-73.290290%2C13.73\n"
   ]
  },
  {
   "cell_type": "code",
   "execution_count": null,
   "metadata": {},
   "outputs": [],
   "source": [
    "import os\n",
    "\n",
    "import pandas as pd\n",
    "import numpy as np\n",
    "\n",
    "import geopandas as gpd\n",
    "\n",
    "import matplotlib.pyplot as plt\n",
    "import folium\n",
    "from folium import GeoJson\n",
    "\n",
    "import pyproj\n",
    "import gpxpy\n",
    "\n",
    "\n",
    "\n",
    "from xlwings import view"
   ]
  },
  {
   "cell_type": "code",
   "execution_count": 2,
   "metadata": {},
   "outputs": [],
   "source": [
    "path_data = os.path.join('..', 'data')\n",
    "path_img = os.path.join('..', 'img')\n",
    "\n",
    "pd.set_option('display.max_colwidth', None)\n",
    "pd.set_option('display.width', None)\n",
    "pd.set_option('display.max_columns', None)"
   ]
  },
  {
   "cell_type": "code",
   "execution_count": 3,
   "metadata": {},
   "outputs": [],
   "source": [
    "# Load the GeoJSON file - should take ~30s\n",
    "\n",
    "gdf = gpd.read_file(os.path.join(path_data, 'FS_VCGI_OPENDATA_Cadastral_VTPARCELS_poly_standardized_parcels_SP_v1_1924587466530394265.geojson'))"
   ]
  },
  {
   "cell_type": "code",
   "execution_count": 4,
   "metadata": {},
   "outputs": [],
   "source": [
    "# Load GPX\n",
    "\n",
    "gpx_file = open(os.path.join(path_data, 'Getting_a_trace_of_the_backyard_trail.gpx'), 'r')\n",
    "gpx = gpxpy.parse(gpx_file)"
   ]
  },
  {
   "cell_type": "code",
   "execution_count": null,
   "metadata": {},
   "outputs": [],
   "source": [
    "# Display the first few rows\n",
    "print(gdf.head())\n",
    "\n",
    "# Get column names\n",
    "print(gdf.columns)\n",
    "\n",
    "# Get basic information about the dataset\n",
    "print(gdf.info())"
   ]
  },
  {
   "cell_type": "code",
   "execution_count": null,
   "metadata": {},
   "outputs": [],
   "source": [
    "# Use this to locate parcel IDs\n",
    "\n",
    "flds = ['OBJECTID', 'OWNER1', 'OWNER2', 'ADDRGL1', 'ADDRGL2', 'E911ADDR', 'TOWN']\n",
    "\n",
    "my_parcel = gdf[gdf['OWNER1'].fillna('').str.contains('Crounse', case=False)]\n",
    "print(my_parcel[flds])\n",
    "\n",
    "other_parcels = gdf[(gdf['E911ADDR'].fillna('').str.contains('BROWN')) &\n",
    "                    (gdf['TOWN'].fillna('').str.contains('SHOREHAM'))]\n",
    "print(other_parcels[flds])"
   ]
  },
  {
   "cell_type": "code",
   "execution_count": 7,
   "metadata": {},
   "outputs": [],
   "source": [
    "#view(other_parcels)"
   ]
  },
  {
   "cell_type": "code",
   "execution_count": 8,
   "metadata": {},
   "outputs": [],
   "source": [
    "ids = [170788, 170947]\n",
    "\n",
    "parcels = gdf[gdf['OBJECTID'].isin(ids)].copy()"
   ]
  },
  {
   "cell_type": "code",
   "execution_count": 9,
   "metadata": {},
   "outputs": [],
   "source": [
    "parcels.set_crs(epsg=32145, inplace=True, allow_override=True)\n",
    "parcels = parcels.to_crs(epsg=4326)\n"
   ]
  },
  {
   "cell_type": "code",
   "execution_count": 10,
   "metadata": {},
   "outputs": [],
   "source": [
    "# Extract track points\n",
    "track_points = []\n",
    "for track in gpx.tracks:\n",
    "    for segment in track.segments:\n",
    "        for point in segment.points:\n",
    "            track_points.append([point.latitude, point.longitude])\n"
   ]
  },
  {
   "cell_type": "code",
   "execution_count": null,
   "metadata": {},
   "outputs": [],
   "source": [
    "#parcels = parcels.to_crs(epsg=4326)\n",
    "\n",
    "# Create a projection for accurate centroid calculation\n",
    "# Here we use a Lambert Azimuthal Equal Area projection centered on Vermont\n",
    "vermont_laea = pyproj.Proj(proj='laea', lat_0=44, lon_0=-72.7, datum='WGS84')\n",
    "\n",
    "# Project to LAEA, calculate centroid, then project back to WGS84\n",
    "parcels_proj = parcels.to_crs(vermont_laea.crs)\n",
    "centroid_proj = parcels_proj.geometry.centroid\n",
    "centroid_wgs84 = pyproj.transform(vermont_laea, pyproj.Proj('EPSG:4326'), \n",
    "                                  centroid_proj.x.mean(), centroid_proj.y.mean())\n",
    "\n",
    "# Create map centered on the calculated centroid\n",
    "m = folium.Map(location=[44, -72.7], zoom_start=10)\n",
    "\n",
    "# Add parcels to the map\n",
    "GeoJson(parcels_proj).add_to(m)\n"
   ]
  },
  {
   "cell_type": "code",
   "execution_count": 12,
   "metadata": {},
   "outputs": [],
   "source": [
    "# Create a map\n",
    "m = folium.Map()\n",
    "\n",
    "# Add parcels to the map\n",
    "folium.GeoJson(\n",
    "    parcels,\n",
    "    style_function=lambda feature: {\n",
    "        'fillColor': 'orange',\n",
    "        'color': 'black',\n",
    "        'weight': 2,\n",
    "        'fillOpacity': 0.7,\n",
    "    }\n",
    ").add_to(m)\n",
    "\n",
    "# Add GPX track to the map\n",
    "folium.PolyLine(track_points, color=\"red\", weight=2.5, opacity=1).add_to(m)\n",
    "\n",
    "# Fit the map to include both parcels and GPX track\n",
    "bounds = parcels.total_bounds\n",
    "m.fit_bounds([[bounds[1], bounds[0]], [bounds[3], bounds[2]]])\n",
    "\n",
    "# Save the map\n",
    "m.save(os.path.join(path_img, \"parcels_and_gpx_map.html\"))\n"
   ]
  },
  {
   "cell_type": "code",
   "execution_count": null,
   "metadata": {},
   "outputs": [],
   "source": [
    "m"
   ]
  },
  {
   "cell_type": "code",
   "execution_count": null,
   "metadata": {},
   "outputs": [],
   "source": [
    "# Ensure the GeoDataFrame is in a suitable projection\n",
    "#parcels = parcels.to_crs(epsg=4326)\n",
    "\n",
    "# Create a figure and axis\n",
    "fig, ax = plt.subplots(figsize=(12, 8))\n",
    "\n",
    "# Plot the parcels\n",
    "parcels.plot(ax=ax, edgecolor='black', facecolor='lightblue', alpha=0.5)\n",
    "\n",
    "# Remove axis\n",
    "ax.axis('off')\n",
    "\n",
    "# Add a title\n",
    "ax.set_title('Parcel Map')\n",
    "\n",
    "# Save the figure\n",
    "fig.savefig(os.path.join(path_img, 'parcel_map_v1.png'), dpi=300, bbox_inches='tight')\n",
    "\n",
    "# Display the plot (this will work in VS Code)\n",
    "fig.show()"
   ]
  },
  {
   "cell_type": "code",
   "execution_count": null,
   "metadata": {},
   "outputs": [],
   "source": []
  },
  {
   "cell_type": "code",
   "execution_count": null,
   "metadata": {},
   "outputs": [],
   "source": [
    "\n",
    "track_points = np.array(track_points)\n",
    "\n",
    "# Create a figure and axis\n",
    "fig, ax = plt.subplots(figsize=(12, 8))\n",
    "\n",
    "# Plot the parcels\n",
    "parcels.plot(ax=ax, edgecolor='black', facecolor='lightblue', alpha=0.5)\n",
    "\n",
    "# Plot the GPX track\n",
    "#ax.plot(track_points[:, 0], track_points[:, 1], color='red', linewidth=2, alpha=0.7)\n",
    "\n",
    "# Remove axis\n",
    "ax.axis('off')\n",
    "\n",
    "# Add a title\n",
    "plt.title('Parcels and GPX Track')\n",
    "\n",
    "# Adjust the plot limits to include both parcels and GPX track\n",
    "# x_min = min(parcels.total_bounds[0], track_points[:, 0].min())\n",
    "# x_max = max(parcels.total_bounds[2], track_points[:, 0].max())\n",
    "# y_min = min(parcels.total_bounds[1], track_points[:, 1].min())\n",
    "# y_max = max(parcels.total_bounds[3], track_points[:, 1].max())\n",
    "\n",
    "# ax.set_xlim(x_min, x_max)\n",
    "# ax.set_ylim(y_min, y_max)\n",
    "\n",
    "# Save the figure\n",
    "plt.savefig(os.path.join(path_img, 'map_parcels_v2.png'), dpi=300, bbox_inches='tight')\n",
    "\n",
    "# Try to display the plot\n",
    "try:\n",
    "    plt.show()\n",
    "except:\n",
    "    print(\"Unable to display the plot interactively. Please open 'parcels_and_gpx_map.png' to view the map.\")\n",
    "\n",
    "print(\"Map saved.\")"
   ]
  },
  {
   "cell_type": "code",
   "execution_count": null,
   "metadata": {},
   "outputs": [],
   "source": [
    "\n",
    "track_points = np.array(track_points)\n",
    "\n",
    "# Create a figure and axis\n",
    "fig, ax = plt.subplots(figsize=(12, 8))\n",
    "\n",
    "# Plot the parcels\n",
    "parcels.plot(ax=ax, edgecolor='black', facecolor='lightblue', alpha=0.5)\n",
    "\n",
    "# Plot the GPX track\n",
    "ax.plot(track_points[:, 1], track_points[:, 0], color='red', linewidth=2, alpha=0.7)\n",
    "\n",
    "# Remove axis\n",
    "ax.axis('off')\n",
    "\n",
    "# Add a title\n",
    "plt.title('Parcels and GPX Track')\n",
    "\n",
    "# Adjust the plot limits to include both parcels and GPX track\n",
    "x_min = min(parcels.total_bounds[0], track_points[:, 1].min())\n",
    "x_max = max(parcels.total_bounds[2], track_points[:, 1].max())\n",
    "y_min = min(parcels.total_bounds[1], track_points[:, 0].min())\n",
    "y_max = max(parcels.total_bounds[3], track_points[:, 0].max())\n",
    "\n",
    "# x_min = min(track_points[:, 0])\n",
    "# x_max = max(track_points[:, 0])\n",
    "# y_min = min(track_points[:, 1])\n",
    "# y_max = max(track_points[:, 1])\n",
    "\n",
    "ax.set_xlim(x_min, x_max)\n",
    "ax.set_ylim(y_min, y_max)\n",
    "\n",
    "# Save the figure\n",
    "plt.savefig(os.path.join(path_img, 'map_gpx_and_parcels_v3.png'), dpi=300, bbox_inches='tight')\n",
    "\n",
    "# Try to display the plot\n",
    "try:\n",
    "    plt.show()\n",
    "except:\n",
    "    print(\"Unable to display the plot interactively. Please open 'parcels_and_gpx_map.png' to view the map.\")\n",
    "\n",
    "print(\"Map saved.\")"
   ]
  },
  {
   "cell_type": "code",
   "execution_count": null,
   "metadata": {},
   "outputs": [],
   "source": []
  }
 ],
 "metadata": {
  "kernelspec": {
   "display_name": "Python 3",
   "language": "python",
   "name": "python3"
  },
  "language_info": {
   "codemirror_mode": {
    "name": "ipython",
    "version": 3
   },
   "file_extension": ".py",
   "mimetype": "text/x-python",
   "name": "python",
   "nbconvert_exporter": "python",
   "pygments_lexer": "ipython3",
   "version": "3.9.6"
  }
 },
 "nbformat": 4,
 "nbformat_minor": 2
}
