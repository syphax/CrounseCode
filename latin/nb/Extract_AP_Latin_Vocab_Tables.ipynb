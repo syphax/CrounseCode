{
  "cells": [
    {
      "cell_type": "markdown",
      "metadata": {
        "colab_type": "text",
        "id": "view-in-github"
      },
      "source": [
        "<a href=\"https://colab.research.google.com/github/syphax/CrounseCode/blob/master/Extract_AP_Latin_Vocab_Tables.ipynb\" target=\"_parent\"><img src=\"https://colab.research.google.com/assets/colab-badge.svg\" alt=\"Open In Colab\"/></a>"
      ]
    },
    {
      "cell_type": "markdown",
      "metadata": {
        "id": "48BBQGEX5owk"
      },
      "source": [
        "Script to extract vocab tables from `https://apcentral.collegeboard.org/media/pdf/ap-latin-draft-course-framework.pdf`\n",
        "\n",
        "Store this file in the Colab workspace and rename to `ap-vocab.pdf`"
      ]
    },
    {
      "cell_type": "code",
      "execution_count": 1,
      "metadata": {
        "id": "qfdZwFR041Lk"
      },
      "outputs": [],
      "source": [
        "# Run the next line if these are not already installed\n",
        "# !pip install PyPDF2 tabula-py\n"
      ]
    },
    {
      "cell_type": "code",
      "execution_count": 2,
      "metadata": {
        "id": "JDmuRbFG4uRf"
      },
      "outputs": [],
      "source": [
        "from tabula import read_pdf\n",
        "from pathlib import Path\n",
        "\n",
        "import numpy as np\n",
        "import pandas as pd"
      ]
    },
    {
      "cell_type": "code",
      "execution_count": 3,
      "metadata": {},
      "outputs": [],
      "source": [
        "\n",
        "f = Path('..') / 'files' / 'ap-latin-draft-course-framework.pdf'"
      ]
    },
    {
      "cell_type": "code",
      "execution_count": 4,
      "metadata": {},
      "outputs": [
        {
          "ename": "",
          "evalue": "",
          "output_type": "error",
          "traceback": [
            "\u001b[1;31mThe Kernel crashed while executing code in the current cell or a previous cell. \n",
            "\u001b[1;31mPlease review the code in the cell(s) to identify a possible cause of the failure. \n",
            "\u001b[1;31mClick <a href='https://aka.ms/vscodeJupyterKernelCrash'>here</a> for more info. \n",
            "\u001b[1;31mView Jupyter <a href='command:jupyter.viewOutput'>log</a> for further details."
          ]
        }
      ],
      "source": [
        "tables = read_pdf(f, \n",
        "                 pages=\"8\",  # try one page first\n",
        "                 guess=False,  # disable table guess\n",
        "                 lattice=True,  # use lattice mode\n",
        "                 java_options=['-Xmx4096m'])  # increase Java heap space"
      ]
    },
    {
      "cell_type": "code",
      "execution_count": 2,
      "metadata": {
        "id": "_xlQdOXo4yk1"
      },
      "outputs": [
        {
          "ename": "",
          "evalue": "",
          "output_type": "error",
          "traceback": [
            "\u001b[1;31mThe Kernel crashed while executing code in the current cell or a previous cell. \n",
            "\u001b[1;31mPlease review the code in the cell(s) to identify a possible cause of the failure. \n",
            "\u001b[1;31mClick <a href='https://aka.ms/vscodeJupyterKernelCrash'>here</a> for more info. \n",
            "\u001b[1;31mView Jupyter <a href='command:jupyter.viewOutput'>log</a> for further details."
          ]
        }
      ],
      "source": [
        "# Extract tables from a specific page\n",
        "\n",
        "\n",
        "tables = read_pdf(f, pages=\"8-33\")  # Change pages as needed"
      ]
    },
    {
      "cell_type": "code",
      "execution_count": 87,
      "metadata": {
        "id": "cHMSn57z9m2I"
      },
      "outputs": [],
      "source": [
        "# entry = tables[1].columns\n",
        "# new_row = pd.DataFrame([entry], columns=tables[0].columns)\n",
        "\n",
        "# print(new_row)\n",
        "\n",
        "# tables[1].columns = tables[0].columns\n",
        "\n",
        "\n",
        "# df = pd.concat([tables[1], new_row], axis=0, ignore_index=True)\n",
        "\n",
        "# print(df)"
      ]
    },
    {
      "cell_type": "code",
      "execution_count": null,
      "metadata": {
        "colab": {
          "base_uri": "https://localhost:8080/"
        },
        "id": "REM7DJ_I6w0E",
        "outputId": "9353746b-efea-4f27-c65f-f932aa929b92"
      },
      "outputs": [],
      "source": [
        "# 'tables' is a list of DataFrame objects, each representing a table.\n",
        "# The first table has the right column names;\n",
        "# the rest have row entries as column names; this fixes that\n",
        "\n",
        "list_dfs = []\n",
        "\n",
        "for i, table in enumerate(tables):\n",
        "\n",
        "    print(f\"Table {i}:\")\n",
        "\n",
        "    if i == 0:\n",
        "      cols = table.columns\n",
        "      df = table\n",
        "    else:\n",
        "      entry = table.columns\n",
        "      new_row = pd.DataFrame([entry], columns=cols)\n",
        "      print(new_row)\n",
        "\n",
        "      table.columns = cols\n",
        "\n",
        "      df = pd.concat([table, new_row], ignore_index=True)\n",
        "\n",
        "    list_dfs.append(df)\n",
        "\n",
        "    #print(cols)\n",
        "    #print(table.columns)\n"
      ]
    },
    {
      "cell_type": "code",
      "execution_count": 89,
      "metadata": {
        "id": "B_TymquS8GZV"
      },
      "outputs": [],
      "source": [
        "full_table = pd.concat(list_dfs)"
      ]
    },
    {
      "cell_type": "code",
      "execution_count": null,
      "metadata": {
        "colab": {
          "base_uri": "https://localhost:8080/"
        },
        "id": "x7pUmH_G5XAL",
        "outputId": "3ca77aa5-3051-49e4-aaf5-c907ff7e2b5c"
      },
      "outputs": [],
      "source": [
        "print(full_table.shape)"
      ]
    },
    {
      "cell_type": "code",
      "execution_count": 91,
      "metadata": {
        "id": "f54ggFGM5Sqp"
      },
      "outputs": [],
      "source": [
        "full_table.to_csv('ap-vocab-table.csv', index=False)"
      ]
    },
    {
      "cell_type": "code",
      "execution_count": 93,
      "metadata": {
        "id": "F6SpzbVh9UXu"
      },
      "outputs": [],
      "source": []
    }
  ],
  "metadata": {
    "colab": {
      "authorship_tag": "ABX9TyMXL+z5fVvtyo2PvXwR3IUf",
      "include_colab_link": true,
      "provenance": []
    },
    "kernelspec": {
      "display_name": "Python 3",
      "name": "python3"
    },
    "language_info": {
      "codemirror_mode": {
        "name": "ipython",
        "version": 3
      },
      "file_extension": ".py",
      "mimetype": "text/x-python",
      "name": "python",
      "nbconvert_exporter": "python",
      "pygments_lexer": "ipython3",
      "version": "3.9.6"
    }
  },
  "nbformat": 4,
  "nbformat_minor": 0
}
