{
  "cells": [
    {
      "cell_type": "markdown",
      "metadata": {
        "colab_type": "text",
        "id": "view-in-github"
      },
      "source": [
        "<a href=\"https://colab.research.google.com/github/syphax/CrounseCode/blob/master/Extract_AP_Latin_Vocab_Tables.ipynb\" target=\"_parent\"><img src=\"https://colab.research.google.com/assets/colab-badge.svg\" alt=\"Open In Colab\"/></a>"
      ]
    },
    {
      "cell_type": "markdown",
      "metadata": {
        "id": "48BBQGEX5owk"
      },
      "source": [
        "Script to extract vocab tables from `https://apcentral.collegeboard.org/media/pdf/ap-latin-draft-course-framework.pdf`\n",
        "\n",
        "Store this file in the Colab workspace and rename to `ap-vocab.pdf`"
      ]
    },
    {
      "cell_type": "code",
      "execution_count": 1,
      "metadata": {
        "id": "qfdZwFR041Lk"
      },
      "outputs": [],
      "source": [
        "# Run the next line if these are not already installed\n",
        "# !pip install PyPDF2 tabula-py\n"
      ]
    },
    {
      "cell_type": "code",
      "execution_count": 4,
      "metadata": {
        "id": "JDmuRbFG4uRf"
      },
      "outputs": [
        {
          "name": "stderr",
          "output_type": "stream",
          "text": [
            "/Users/bcc/Code/git/CrounseCode/.venv/lib/python3.9/site-packages/pypdf/_crypt_providers/_cryptography.py:32: CryptographyDeprecationWarning: ARC4 has been moved to cryptography.hazmat.decrepit.ciphers.algorithms.ARC4 and will be removed from cryptography.hazmat.primitives.ciphers.algorithms in 48.0.0.\n",
            "  from cryptography.hazmat.primitives.ciphers.algorithms import AES, ARC4\n"
          ]
        }
      ],
      "source": [
        "# Tabula creashes my kernel!\n",
        "# from tabula import read_pdf\n",
        "\n",
        "import camelot.io as camelot\n",
        "\n",
        "from pathlib import Path\n",
        "\n",
        "import numpy as np\n",
        "import pandas as pd"
      ]
    },
    {
      "cell_type": "code",
      "execution_count": 33,
      "metadata": {},
      "outputs": [],
      "source": [
        "\n",
        "f = Path('..') / 'files' / 'ap-latin-draft-course-framework.pdf'"
      ]
    },
    {
      "cell_type": "code",
      "execution_count": 40,
      "metadata": {},
      "outputs": [
        {
          "name": "stdout",
          "output_type": "stream",
          "text": [
            "26\n"
          ]
        }
      ],
      "source": [
        "tables = camelot.read_pdf(f, pages=\"8-33\", flavor='lattice') #, table_areas=['50,50,600,700'])\n",
        "\n",
        "print(len(tables))"
      ]
    },
    {
      "cell_type": "code",
      "execution_count": 38,
      "metadata": {
        "id": "_xlQdOXo4yk1"
      },
      "outputs": [],
      "source": [
        "dfs = pd.concat([table.df for table in tables])\n"
      ]
    },
    {
      "cell_type": "code",
      "execution_count": 39,
      "metadata": {},
      "outputs": [
        {
          "data": {
            "text/html": [
              "<div>\n",
              "<style scoped>\n",
              "    .dataframe tbody tr th:only-of-type {\n",
              "        vertical-align: middle;\n",
              "    }\n",
              "\n",
              "    .dataframe tbody tr th {\n",
              "        vertical-align: top;\n",
              "    }\n",
              "\n",
              "    .dataframe thead th {\n",
              "        text-align: right;\n",
              "    }\n",
              "</style>\n",
              "<table border=\"1\" class=\"dataframe\">\n",
              "  <thead>\n",
              "    <tr style=\"text-align: right;\">\n",
              "      <th></th>\n",
              "      <th>0</th>\n",
              "      <th>1</th>\n",
              "      <th>2</th>\n",
              "    </tr>\n",
              "  </thead>\n",
              "  <tbody>\n",
              "    <tr>\n",
              "      <th>0</th>\n",
              "      <td>Required Vocabulary</td>\n",
              "      <td>Definition</td>\n",
              "      <td>Suggested \\nReading</td>\n",
              "    </tr>\n",
              "    <tr>\n",
              "      <th>1</th>\n",
              "      <td>—, suī, sibi, sē, sē</td>\n",
              "      <td>himself, herself, itself, themselves</td>\n",
              "      <td>1.1</td>\n",
              "    </tr>\n",
              "    <tr>\n",
              "      <th>2</th>\n",
              "      <td>ā, ab, abs</td>\n",
              "      <td>from, away from, out of, by (with abl.)</td>\n",
              "      <td>1.1</td>\n",
              "    </tr>\n",
              "    <tr>\n",
              "      <th>3</th>\n",
              "      <td>abeō, -īre, iī, itum</td>\n",
              "      <td>to go from, go away, go off, go forth, go, depart</td>\n",
              "      <td>2.2</td>\n",
              "    </tr>\n",
              "    <tr>\n",
              "      <th>4</th>\n",
              "      <td>absum, abesse, āfuī</td>\n",
              "      <td>to be away from, be absent</td>\n",
              "      <td>5.3</td>\n",
              "    </tr>\n",
              "    <tr>\n",
              "      <th>...</th>\n",
              "      <td>...</td>\n",
              "      <td>...</td>\n",
              "      <td>...</td>\n",
              "    </tr>\n",
              "    <tr>\n",
              "      <th>25</th>\n",
              "      <td>caedēs, -is</td>\n",
              "      <td>a cutting-down, killing, slaughter, carnage, m...</td>\n",
              "      <td>5.2</td>\n",
              "    </tr>\n",
              "    <tr>\n",
              "      <th>26</th>\n",
              "      <td>caelum, -ī</td>\n",
              "      <td>the sky, heaven, heavens, vault of heaven</td>\n",
              "      <td>4.2</td>\n",
              "    </tr>\n",
              "    <tr>\n",
              "      <th>27</th>\n",
              "      <td>cālīgō, -inis</td>\n",
              "      <td>a thick air, mist, vapor, fog</td>\n",
              "      <td>2.2</td>\n",
              "    </tr>\n",
              "    <tr>\n",
              "      <th>28</th>\n",
              "      <td>Camilla, -ae</td>\n",
              "      <td>Camilla, maiden warrior and leader of the Volsci</td>\n",
              "      <td>6.2</td>\n",
              "    </tr>\n",
              "    <tr>\n",
              "      <th>29</th>\n",
              "      <td>campus, -ī</td>\n",
              "      <td>a plain, field, open country, level place</td>\n",
              "      <td>2.3</td>\n",
              "    </tr>\n",
              "  </tbody>\n",
              "</table>\n",
              "<p>84 rows × 3 columns</p>\n",
              "</div>"
            ],
            "text/plain": [
              "                       0                                                  1  \\\n",
              "0    Required Vocabulary                                         Definition   \n",
              "1   —, suī, sibi, sē, sē               himself, herself, itself, themselves   \n",
              "2             ā, ab, abs            from, away from, out of, by (with abl.)   \n",
              "3   abeō, -īre, iī, itum  to go from, go away, go off, go forth, go, depart   \n",
              "4    absum, abesse, āfuī                         to be away from, be absent   \n",
              "..                   ...                                                ...   \n",
              "25           caedēs, -is  a cutting-down, killing, slaughter, carnage, m...   \n",
              "26            caelum, -ī          the sky, heaven, heavens, vault of heaven   \n",
              "27         cālīgō, -inis                      a thick air, mist, vapor, fog   \n",
              "28          Camilla, -ae   Camilla, maiden warrior and leader of the Volsci   \n",
              "29            campus, -ī          a plain, field, open country, level place   \n",
              "\n",
              "                      2  \n",
              "0   Suggested \\nReading  \n",
              "1                   1.1  \n",
              "2                   1.1  \n",
              "3                   2.2  \n",
              "4                   5.3  \n",
              "..                  ...  \n",
              "25                  5.2  \n",
              "26                  4.2  \n",
              "27                  2.2  \n",
              "28                  6.2  \n",
              "29                  2.3  \n",
              "\n",
              "[84 rows x 3 columns]"
            ]
          },
          "execution_count": 39,
          "metadata": {},
          "output_type": "execute_result"
        }
      ],
      "source": [
        "dfs"
      ]
    },
    {
      "cell_type": "code",
      "execution_count": 87,
      "metadata": {
        "id": "cHMSn57z9m2I"
      },
      "outputs": [],
      "source": [
        "# entry = tables[1].columns\n",
        "# new_row = pd.DataFrame([entry], columns=tables[0].columns)\n",
        "\n",
        "# print(new_row)\n",
        "\n",
        "# tables[1].columns = tables[0].columns\n",
        "\n",
        "\n",
        "# df = pd.concat([tables[1], new_row], axis=0, ignore_index=True)\n",
        "\n",
        "# print(df)"
      ]
    },
    {
      "cell_type": "code",
      "execution_count": null,
      "metadata": {
        "colab": {
          "base_uri": "https://localhost:8080/"
        },
        "id": "REM7DJ_I6w0E",
        "outputId": "9353746b-efea-4f27-c65f-f932aa929b92"
      },
      "outputs": [],
      "source": [
        "# 'tables' is a list of DataFrame objects, each representing a table.\n",
        "# The first table has the right column names;\n",
        "# the rest have row entries as column names; this fixes that\n",
        "\n",
        "list_dfs = []\n",
        "\n",
        "for i, table in enumerate(tables):\n",
        "\n",
        "    print(f\"Table {i}:\")\n",
        "\n",
        "    if i == 0:\n",
        "      cols = table.columns\n",
        "      df = table\n",
        "    else:\n",
        "      entry = table.columns\n",
        "      new_row = pd.DataFrame([entry], columns=cols)\n",
        "      print(new_row)\n",
        "\n",
        "      table.columns = cols\n",
        "\n",
        "      df = pd.concat([table, new_row], ignore_index=True)\n",
        "\n",
        "    list_dfs.append(df)\n",
        "\n",
        "    #print(cols)\n",
        "    #print(table.columns)\n"
      ]
    },
    {
      "cell_type": "code",
      "execution_count": 89,
      "metadata": {
        "id": "B_TymquS8GZV"
      },
      "outputs": [],
      "source": [
        "full_table = pd.concat(list_dfs)"
      ]
    },
    {
      "cell_type": "code",
      "execution_count": null,
      "metadata": {
        "colab": {
          "base_uri": "https://localhost:8080/"
        },
        "id": "x7pUmH_G5XAL",
        "outputId": "3ca77aa5-3051-49e4-aaf5-c907ff7e2b5c"
      },
      "outputs": [],
      "source": [
        "print(full_table.shape)"
      ]
    },
    {
      "cell_type": "code",
      "execution_count": 91,
      "metadata": {
        "id": "f54ggFGM5Sqp"
      },
      "outputs": [],
      "source": [
        "full_table.to_csv('ap-vocab-table.csv', index=False)"
      ]
    },
    {
      "cell_type": "code",
      "execution_count": 93,
      "metadata": {
        "id": "F6SpzbVh9UXu"
      },
      "outputs": [],
      "source": []
    }
  ],
  "metadata": {
    "colab": {
      "authorship_tag": "ABX9TyMXL+z5fVvtyo2PvXwR3IUf",
      "include_colab_link": true,
      "provenance": []
    },
    "kernelspec": {
      "display_name": "Python 3",
      "name": "python3"
    },
    "language_info": {
      "codemirror_mode": {
        "name": "ipython",
        "version": 3
      },
      "file_extension": ".py",
      "mimetype": "text/x-python",
      "name": "python",
      "nbconvert_exporter": "python",
      "pygments_lexer": "ipython3",
      "version": "3.9.6"
    }
  },
  "nbformat": 4,
  "nbformat_minor": 0
}
