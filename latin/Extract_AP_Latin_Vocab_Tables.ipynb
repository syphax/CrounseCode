{
  "nbformat": 4,
  "nbformat_minor": 0,
  "metadata": {
    "colab": {
      "provenance": [],
      "authorship_tag": "ABX9TyMXL+z5fVvtyo2PvXwR3IUf",
      "include_colab_link": true
    },
    "kernelspec": {
      "name": "python3",
      "display_name": "Python 3"
    },
    "language_info": {
      "name": "python"
    }
  },
  "cells": [
    {
      "cell_type": "markdown",
      "metadata": {
        "id": "view-in-github",
        "colab_type": "text"
      },
      "source": [
        "<a href=\"https://colab.research.google.com/github/syphax/CrounseCode/blob/master/Extract_AP_Latin_Vocab_Tables.ipynb\" target=\"_parent\"><img src=\"https://colab.research.google.com/assets/colab-badge.svg\" alt=\"Open In Colab\"/></a>"
      ]
    },
    {
      "cell_type": "markdown",
      "source": [
        "Script to extract vocab tables from `https://apcentral.collegeboard.org/media/pdf/ap-latin-draft-course-framework.pdf`\n",
        "\n",
        "Store this file in the Colab workspace and rename to `ap-vocab.pdf`"
      ],
      "metadata": {
        "id": "48BBQGEX5owk"
      }
    },
    {
      "cell_type": "code",
      "source": [
        "# pip install PyPDF2 tabula-py\n"
      ],
      "metadata": {
        "id": "qfdZwFR041Lk"
      },
      "execution_count": 84,
      "outputs": []
    },
    {
      "cell_type": "code",
      "execution_count": 85,
      "metadata": {
        "id": "JDmuRbFG4uRf"
      },
      "outputs": [],
      "source": [
        "from tabula import read_pdf\n",
        "import numpy as np\n",
        "import pandas as pd"
      ]
    },
    {
      "cell_type": "code",
      "source": [
        "# Extract tables from a specific page\n",
        "\n",
        "tables = read_pdf('./ap-vocab.pdf', pages=\"8-32\")  # Change pages as needed"
      ],
      "metadata": {
        "id": "_xlQdOXo4yk1"
      },
      "execution_count": 86,
      "outputs": []
    },
    {
      "cell_type": "code",
      "source": [
        "# entry = tables[1].columns\n",
        "# new_row = pd.DataFrame([entry], columns=tables[0].columns)\n",
        "\n",
        "# print(new_row)\n",
        "\n",
        "# tables[1].columns = tables[0].columns\n",
        "\n",
        "\n",
        "# df = pd.concat([tables[1], new_row], axis=0, ignore_index=True)\n",
        "\n",
        "# print(df)"
      ],
      "metadata": {
        "id": "cHMSn57z9m2I"
      },
      "execution_count": 87,
      "outputs": []
    },
    {
      "cell_type": "code",
      "source": [
        "# 'tables' is a list of DataFrame objects, each representing a table.\n",
        "# The first table has the right column names;\n",
        "# the rest have row entries as column names; this fixes that\n",
        "\n",
        "list_dfs = []\n",
        "\n",
        "for i, table in enumerate(tables):\n",
        "\n",
        "    print(f\"Table {i}:\")\n",
        "\n",
        "    if i == 0:\n",
        "      cols = table.columns\n",
        "      df = table\n",
        "    else:\n",
        "      entry = table.columns\n",
        "      new_row = pd.DataFrame([entry], columns=cols)\n",
        "      print(new_row)\n",
        "\n",
        "      table.columns = cols\n",
        "\n",
        "      df = pd.concat([table, new_row], ignore_index=True)\n",
        "\n",
        "    list_dfs.append(df)\n",
        "\n",
        "    #print(cols)\n",
        "    #print(table.columns)\n"
      ],
      "metadata": {
        "colab": {
          "base_uri": "https://localhost:8080/"
        },
        "id": "REM7DJ_I6w0E",
        "outputId": "9353746b-efea-4f27-c65f-f932aa929b92"
      },
      "execution_count": 88,
      "outputs": [
        {
          "output_type": "stream",
          "name": "stdout",
          "text": [
            "Table 0:\n",
            "Table 1:\n",
            "  Required Vocabulary                                         Definition  \\\n",
            "0          ager, agrī  productive land, a field, farm, estate, arable...   \n",
            "\n",
            "  Suggested  \n",
            "0       6.2  \n",
            "Table 2:\n",
            "  Required Vocabulary                                   Definition Suggested\n",
            "0      ardēns, -entis  glowing, fiery, hot, ablaze, burning, eager       4.3\n",
            "Table 3:\n",
            "          Required Vocabulary                        Definition Suggested\n",
            "0  canō, -ere, cecinī, cantum  to make music, sing, sound, play       4.1\n",
            "Table 4:\n",
            "         Required Vocabulary                          Definition Suggested\n",
            "0  colō, -ere, coluī, cultum  to till, tend, care for, cultivate       4.1\n",
            "Table 5:\n",
            "  Required Vocabulary             Definition Suggested\n",
            "0         currus, -ūs  a chariot, car, wagon       4.1\n",
            "Table 6:\n",
            "  Required Vocabulary       Definition Suggested\n",
            "0           dōnum, -ī  a gift, present       4.3\n",
            "Table 7:\n",
            "  Required Vocabulary                                         Definition  \\\n",
            "0         exitus, -ūs  a going out, exit, departure; end, conclusion,...   \n",
            "\n",
            "  Suggested  \n",
            "0       2.1  \n",
            "Table 8:\n",
            "  Required Vocabulary                             Definition Suggested\n",
            "0      formīdō, -inis  fearfulness, fear, terror, dread, awe       2.2\n",
            "Table 9:\n",
            "  Required Vocabulary                           Definition Suggested\n",
            "0       historia, -ae  a narrative of past events, history       2.2\n",
            "Table 10:\n",
            "   Required Vocabulary                                         Definition  \\\n",
            "0  incidō, -ere, -cidī  to fall in, fall, light, strike, reach, find t...   \n",
            "\n",
            "  Suggested  \n",
            "0       2.1  \n",
            "Table 11:\n",
            "       Required Vocabulary                                         Definition  \\\n",
            "0  Iuppiter (Iūpi-), Iovis  Jupiter, Jove, king of the gods, son of Saturn...   \n",
            "\n",
            "  Suggested  \n",
            "0       4.5  \n",
            "Table 12:\n",
            "  Required Vocabulary      Definition Suggested\n",
            "0     longus, -a, -um  long, extended       1.3\n",
            "Table 13:\n",
            "         Required Vocabulary  \\\n",
            "0  mittō, -ere, mīsī, missum   \n",
            "\n",
            "                                         Definition Suggested  \n",
            "0  to cause to go, let go, send, send off, despatch       3.4  \n",
            "Table 14:\n",
            "       Required Vocabulary               Definition Suggested\n",
            "0  negō, -āre, -āvī, -ātum  to say no, deny, refuse       2.2\n",
            "Table 15:\n",
            "         Required Vocabulary  \\\n",
            "0  occupō, -āre, -āvī, -ātum   \n",
            "\n",
            "                                          Definition Suggested  \n",
            "0  to take into possession, seize, occupy, master...       5.4  \n",
            "Table 16:\n",
            "  Required Vocabulary       Definition Suggested\n",
            "0       pectus, -oris  a breast, chest       4.2\n",
            "Table 17:\n",
            "  Required Vocabulary                 Definition Suggested\n",
            "0               prius  sooner, first, previously       5.5\n",
            "Table 18:\n",
            "  Required Vocabulary      Definition Suggested\n",
            "0                quia  because, since       1.3\n",
            "Table 19:\n",
            "               Required Vocabulary  \\\n",
            "0  relinquo, -ere, -līquī, -lictum   \n",
            "\n",
            "                                          Definition Suggested  \n",
            "0  to leave behind, not take along, not stay with...       2.2  \n",
            "Table 20:\n",
            "  Required Vocabulary                                         Definition  \\\n",
            "0        senātus, -ūs  the council of the elders, council of state, S...   \n",
            "\n",
            "  Suggested  \n",
            "0       5.1  \n",
            "Table 21:\n",
            "  Required Vocabulary                                         Definition  \\\n",
            "0              statim  forthwith, straightway, at once, immediately, ...   \n",
            "\n",
            "  Suggested  \n",
            "0       2.2  \n",
            "Table 22:\n",
            "  Required Vocabulary                                         Definition  \\\n",
            "0          tēctum, -ī  a covered structure, roofed enclosure, shelter...   \n",
            "\n",
            "  Suggested  \n",
            "0       2.2  \n",
            "Table 23:\n",
            "  Required Vocabulary                                       Definition  \\\n",
            "0                tunc  then, at that time, just then, on that occasion   \n",
            "\n",
            "  Suggested  \n",
            "0       1.2  \n",
            "Table 24:\n",
            "  Required Vocabulary                                         Definition  \\\n",
            "0                vērō  in truth, in fact, certainly, truly, to be sur...   \n",
            "\n",
            "  Suggested  \n",
            "0       1.4  \n"
          ]
        }
      ]
    },
    {
      "cell_type": "code",
      "source": [
        "full_table = pd.concat(list_dfs)"
      ],
      "metadata": {
        "id": "B_TymquS8GZV"
      },
      "execution_count": 89,
      "outputs": []
    },
    {
      "cell_type": "code",
      "source": [
        "print(full_table.shape)"
      ],
      "metadata": {
        "colab": {
          "base_uri": "https://localhost:8080/"
        },
        "id": "x7pUmH_G5XAL",
        "outputId": "3ca77aa5-3051-49e4-aaf5-c907ff7e2b5c"
      },
      "execution_count": 90,
      "outputs": [
        {
          "output_type": "stream",
          "name": "stdout",
          "text": [
            "(712, 3)\n"
          ]
        }
      ]
    },
    {
      "cell_type": "code",
      "source": [
        "full_table.to_csv('ap-vocab-table.csv', index=False)"
      ],
      "metadata": {
        "id": "f54ggFGM5Sqp"
      },
      "execution_count": 91,
      "outputs": []
    },
    {
      "cell_type": "code",
      "source": [],
      "metadata": {
        "id": "F6SpzbVh9UXu"
      },
      "execution_count": 93,
      "outputs": []
    }
  ]
}