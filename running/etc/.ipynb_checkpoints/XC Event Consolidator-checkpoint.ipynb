{
 "cells": [
  {
   "cell_type": "code",
   "execution_count": null,
   "metadata": {
    "collapsed": true
   },
   "outputs": [],
   "source": [
    "import pandas as pd\n",
    "import requests\n",
    "import io\n"
   ]
  },
  {
   "cell_type": "code",
   "execution_count": null,
   "metadata": {
    "collapsed": true
   },
   "outputs": [],
   "source": [
    "# URLs for EMass 2017-11-11\n",
    "# http://www.coolrunning.com/results/17/ma.shtml#11\n",
    "\n",
    "# Format is: URL, results format, division\n",
    "\n",
    "# 0 = Default format: Place, number, name, ...\n",
    "# 1 = Place, name, ...\n",
    "\n",
    "urls_boys = [('http://www.coolrunning.com/results/17/ma/Nov11_MIAAEa_set4.shtml', 0, 1),  ('http://www.coolrunning.com/results/17/ma/Nov11_MIAAEa_set5.shtml', 0, 2),  ('http://www.coolrunning.com/results/17/ma/Nov11_MIAAEa_set6.shtml', 0, 3),  ('http://www.coolrunning.com/results/17/ma/Nov11_MIAAEa_1_set4.shtml', 0, 4),  ('http://www.coolrunning.com/results/17/ma/Nov11_MIAAEa_1_set5.shtml', 0, 5),  ('http://www.coolrunning.com/results/17/ma/Nov11_MIAAEa_1_set6.shtml', 1, 6)]\n",
    "\n",
    "urls_girls = [('http://www.coolrunning.com/results/17/ma/Nov11_MIAAEa_set1.shtml', 0, 1), ('http://www.coolrunning.com/results/17/ma/Nov11_MIAAEa_set2.shtml', 0, 2), ('http://www.coolrunning.com/results/17/ma/Nov11_MIAAEa_set3.shtml', 0, 3), ('http://www.coolrunning.com/results/17/ma/Nov11_MIAAEa_1_set1.shtml', 0, 4), ('http://www.coolrunning.com/results/17/ma/Nov11_MIAAEa_1_set2.shtml', 0, 5), ('http://www.coolrunning.com/results/17/ma/Nov11_MIAAEa_1_set3.shtml', 0, 6)]"
   ]
  },
  {
   "cell_type": "code",
   "execution_count": null,
   "metadata": {
    "collapsed": false
   },
   "outputs": [],
   "source": [
    "for url, f, div in urls_boys:\n",
    "    print(url, f, div)"
   ]
  },
  {
   "cell_type": "code",
   "execution_count": null,
   "metadata": {
    "collapsed": false
   },
   "outputs": [],
   "source": [
    "def get_fixed_width_table(webpage, start_string, end_string, first_col_width=3):\n",
    "    '''\n",
    "    webpage is a multi-line text object, typically a web page URL\n",
    "    \n",
    "    This function ignores any text before it sees the first occurrence of start_string, \n",
    "    and any text after end_string\n",
    "    '''\n",
    "    \n",
    "    #print(webpage)\n",
    "    \n",
    "    str_tbl = ''\n",
    "    \n",
    "    start_flag = False\n",
    "    end_flag = False\n",
    "    \n",
    "    for l in webpage.splitlines():\n",
    "        \n",
    "        #print('Line: ' + l)\n",
    "        \n",
    "        if end_flag:\n",
    "            break\n",
    "        \n",
    "        if not (start_flag):\n",
    "            \n",
    "            # Look for the start string\n",
    "            if l.find(start_string) >= 0:\n",
    "                start_flag = True\n",
    "    \n",
    "        else:\n",
    "            \n",
    "            if l.find(end_string) >= 0:\n",
    "                end_flag = True\n",
    "            else:\n",
    "                # Grab data, if clean:\n",
    "                if l[0:first_col_width].strip().isdigit():\n",
    "                    str_tbl = str_tbl + l + '\\n'\n",
    "    \n",
    "    return str_tbl"
   ]
  },
  {
   "cell_type": "code",
   "execution_count": null,
   "metadata": {
    "collapsed": false,
    "scrolled": false
   },
   "outputs": [],
   "source": [
    "# Build the master dataFrame for boys\n",
    "\n",
    "df_list = []\n",
    "\n",
    "for u, layout, div in urls_boys:\n",
    "    results_page = requests.get(u)\n",
    "    results_table = get_fixed_width_table(results_page.text, '====', 'Team Scores')\n",
    "\n",
    "    # Convert a string to a string we can send to read_fwf\n",
    "    io_results_table = io.StringIO(results_table)\n",
    "\n",
    "    if layout == 1:\n",
    "        fields=[(0, 3), (0, 0), (4, 30), (30, 32), (33, 54), (0, 0), (55,65), (66, 69)]\n",
    "    else:\n",
    "        # Default\n",
    "        fields=[(0, 3), (4, 9), (10, 30), (30, 32), (33, 56), (57, 65), (66,75), (76, 80)]\n",
    "  \n",
    "    df_results = pd.read_fwf(io_results_table, colspecs=fields, names = ['Place', 'Number', 'Name', 'Grade', 'School', 'Pace', 'TimeString', 'Score'] )\n",
    "    df_results['Division'] = div\n",
    "    df_list.append(df_results)\n",
    "    \n",
    "#    print(df_results.head(10))\n",
    "    \n",
    "df_results_boys = pd.concat(df_list)\n"
   ]
  },
  {
   "cell_type": "code",
   "execution_count": null,
   "metadata": {
    "collapsed": true
   },
   "outputs": [],
   "source": [
    "df_list = []\n",
    "\n",
    "for u, layout, div in urls_girls:\n",
    "    results_page = requests.get(u)\n",
    "    results_table = get_fixed_width_table(results_page.text, '====', 'Team Scores')\n",
    "\n",
    "    # Convert a string to a string we can send to read_fwf\n",
    "    io_results_table = io.StringIO(results_table)\n",
    "\n",
    "    if layout == 1:\n",
    "        fields=[(0, 3), (0, 0), (4, 30), (30, 32), (33, 54), (0, 0), (55,65), (66, 69)]\n",
    "    else:\n",
    "        # Default\n",
    "        fields=[(0, 3), (4, 9), (10, 30), (30, 32), (33, 56), (57, 65), (66,75), (76, 80)]\n",
    "  \n",
    "    df_results = pd.read_fwf(io_results_table, colspecs=fields, names = ['Place', 'Number', 'Name', 'Grade', 'School', 'Pace', 'TimeString', 'Score'] )\n",
    "    df_results['Division'] = div\n",
    "    df_list.append(df_results)\n",
    "    \n",
    "    print(df_results.head(10))\n",
    "    \n",
    "df_results_girls = pd.concat(df_list)"
   ]
  },
  {
   "cell_type": "code",
   "execution_count": null,
   "metadata": {
    "collapsed": false
   },
   "outputs": [],
   "source": [
    "print(df_results_boys.info())"
   ]
  },
  {
   "cell_type": "code",
   "execution_count": null,
   "metadata": {
    "collapsed": false
   },
   "outputs": [],
   "source": [
    "#df_results_boys = df_results_boys.sort_values('Time')\n",
    "\n",
    "df_results_boys['Time'] = pd.to_datetime(df_results_boys['TimeString'], format='%M:%S.%f').dt.time\n",
    "df_results_boys = df_results_boys.sort_values('Time')\n",
    "\n",
    "df_results_girls['Time'] = pd.to_datetime(df_results_girls['TimeString'], format='%M:%S.%f').dt.time\n",
    "df_results_girls = df_results_girls.sort_values('Time')\n"
   ]
  },
  {
   "cell_type": "code",
   "execution_count": null,
   "metadata": {
    "collapsed": false
   },
   "outputs": [],
   "source": [
    "df_results_boys.head(10)"
   ]
  },
  {
   "cell_type": "code",
   "execution_count": null,
   "metadata": {
    "collapsed": true
   },
   "outputs": [],
   "source": [
    "# This is for convenience when summing runners' relative and overall places\n",
    "df_results_boys[\"tmpCnt\"] = 1\n",
    "df_results_boys[\"RunnerNumber\"] = df_results_boys[\"tmpCnt\"].groupby(df_results_boys['School']).cumsum()\n",
    "df_results_boys[\"OverallPlace\"] = df_results_boys[\"tmpCnt\"].cumsum()\n",
    "\n",
    "df_results_girls[\"tmpCnt\"] = 1\n",
    "df_results_girls[\"RunnerNumber\"] = df_results_girls[\"tmpCnt\"].groupby(df_results_girls['School']).cumsum()\n",
    "df_results_girls[\"OverallPlace\"] = df_results_girls[\"tmpCnt\"].cumsum()\n"
   ]
  },
  {
   "cell_type": "code",
   "execution_count": null,
   "metadata": {
    "collapsed": false
   },
   "outputs": [],
   "source": [
    "df_results_boys.head(20)"
   ]
  },
  {
   "cell_type": "code",
   "execution_count": null,
   "metadata": {
    "collapsed": false
   },
   "outputs": [],
   "source": [
    "# Figure out scores\n",
    "\n",
    "df_results_boys[df_results_boys[\"RunnerNumber\"] < 6].groupby('School').agg({'OverallPlace':'sum'}).sort_values('OverallPlace')\n"
   ]
  },
  {
   "cell_type": "code",
   "execution_count": null,
   "metadata": {
    "collapsed": false
   },
   "outputs": [],
   "source": [
    "# Figure out scores\n",
    "\n",
    "df_results_girls[df_results_girls[\"RunnerNumber\"] < 6].groupby('School').agg({'OverallPlace':'sum'}).sort_values('OverallPlace')"
   ]
  },
  {
   "cell_type": "code",
   "execution_count": null,
   "metadata": {
    "collapsed": false,
    "scrolled": false
   },
   "outputs": [],
   "source": [
    "df_results_boys[df_results_boys[\"RunnerNumber\"] == 6]"
   ]
  },
  {
   "cell_type": "code",
   "execution_count": null,
   "metadata": {
    "collapsed": true
   },
   "outputs": [],
   "source": []
  }
 ],
 "metadata": {
  "kernelspec": {
   "display_name": "Python 3",
   "language": "python",
   "name": "python3"
  },
  "language_info": {
   "codemirror_mode": {
    "name": "ipython",
    "version": 3
   },
   "file_extension": ".py",
   "mimetype": "text/x-python",
   "name": "python",
   "nbconvert_exporter": "python",
   "pygments_lexer": "ipython3",
   "version": "3.4.5"
  }
 },
 "nbformat": 4,
 "nbformat_minor": 0
}
