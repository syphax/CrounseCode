{
 "cells": [
  {
   "cell_type": "markdown",
   "metadata": {},
   "source": [
    "# XC Result Collector\n",
    "\n",
    "This script collects events and event results from https://www.athletic.net/\n",
    "\n",
    "It is focused om Massachusetts High School XC"
   ]
  },
  {
   "cell_type": "markdown",
   "metadata": {},
   "source": [
    "# Config"
   ]
  },
  {
   "cell_type": "code",
   "execution_count": 12,
   "metadata": {},
   "outputs": [],
   "source": [
    "import os\n",
    "import requests\n",
    "import datetime\n",
    "\n",
    "import pandas as pd\n",
    "import numpy as np\n"
   ]
  },
  {
   "cell_type": "code",
   "execution_count": 13,
   "metadata": {},
   "outputs": [],
   "source": [
    "path_data = os.path.join('..', 'data')\n",
    "fn_events = 'db_events.csv'\n",
    "fn_athletes = 'db_athletes.csv'\n",
    "fn_results = 'db_results.csv'"
   ]
  },
  {
   "cell_type": "code",
   "execution_count": 14,
   "metadata": {},
   "outputs": [],
   "source": [
    "FLAG_SAVE = True"
   ]
  },
  {
   "cell_type": "markdown",
   "metadata": {},
   "source": [
    "# Load prexisting data"
   ]
  },
  {
   "cell_type": "markdown",
   "metadata": {},
   "source": [
    "## Define schemas"
   ]
  },
  {
   "cell_type": "code",
   "execution_count": 15,
   "metadata": {},
   "outputs": [],
   "source": [
    "# Schema\n",
    "\n",
    "dict_schema_events = {\n",
    "    'IDMeet': int,\n",
    "    'Sport': str,\n",
    "    'MeetName': str,\n",
    "    'SeasonId': int,\n",
    "    'StartDate': 'datetime64[ns]',\n",
    "    'EndDate': 'datetime64[ns]',\n",
    "    'Virtual': bool,\n",
    "    'LocationName': str,\n",
    "    'StreetAddress': str,  # nullable\n",
    "    'City': str,\n",
    "    'PostalCode': str,\n",
    "    'State': str,\n",
    "    'OwnerID': int,\n",
    "    'CalendarLock': int,\n",
    "    'UCalendarLock': int,\n",
    "    'RegEnd': 'datetime64[ns]',  # nullable\n",
    "    'HasResults': int,\n",
    "    'LevelMask': int,\n",
    "    'HostName': str,  # nullable\n",
    "    'MascotUrl': str,  # nullable\n",
    "    'Lat': float,\n",
    "    'Long': float,\n",
    "    'score': float,\n",
    "    'CalCount': int,\n",
    "    'OffDays': str,  # nullable, appears to be JSON string\n",
    "    'Data': str,  # nullable\n",
    "    'rsUrl': str,  # nullable\n",
    "    'LiveID': int,  # nullable\n",
    "    'LivePublished': bool,\n",
    "    'VideoURL': str,  # nullable\n",
    "    'Website': str,\n",
    "    'Country': str,\n",
    "    \n",
    "    # Additional columns:\n",
    "    \n",
    "    'dt_retrieved': 'datetime64[ns]'\n",
    "}\n",
    "\n",
    "# Results\n",
    "\n",
    "dict_schema_results ={\n",
    "    'Date': 'datetime64[ns]',\n",
    "    'EventID': np.int32, \n",
    "    'Gender': str, \n",
    "    'RaceID': np.int32, \n",
    "    'Location': np.int32,\n",
    "    'Grade': np.int32,\n",
    "    'AthleteID': np.int32,\n",
    "    'First Name': str,\n",
    "    'Last Name': str,\n",
    "    'Name': str,\n",
    "    'Time': 'timedelta64[ns]',\n",
    "    'School': str,\n",
    "    'Seconds': np.float64, \n",
    "    'Minutes': np.float64,\n",
    "    'Team Count': np.int32, \n",
    "    'Team Position': np.int32, \n",
    "    'Place': np.int32, \n",
    "    'Points': np.int32\n",
    "}"
   ]
  },
  {
   "cell_type": "markdown",
   "metadata": {},
   "source": [
    "## Load data"
   ]
  },
  {
   "cell_type": "code",
   "execution_count": 16,
   "metadata": {},
   "outputs": [],
   "source": [
    "# Events\n",
    "\n",
    "pe = os.path.join(path_data, fn_events)\n",
    "\n",
    "if os.path.isfile(pe):\n",
    "    df_events = pd.read_csv(pe)\n",
    "    df_events = df_fix_types(df_events, dict_schema_events)\n",
    "else:\n",
    "    df_events = pd.DataFrame({col: pd.Series(dtype=dtype) for col, dtype in dict_schema_events.items()})\n",
    "    \n",
    "# Results\n",
    "\n",
    "pr = os.path.join(path_data, fn_results)\n",
    "\n",
    "if os.path.isfile(pr):\n",
    "    df_events = pd.read_csv(pr)\n",
    "else:\n",
    "    df_results = pd.DataFrame({col: pd.Series(dtype=dtype) for col, dtype in dict_schema_results.items()})\n",
    "    \n"
   ]
  },
  {
   "cell_type": "code",
   "execution_count": 17,
   "metadata": {},
   "outputs": [
    {
     "data": {
      "text/html": [
       "<div>\n",
       "<style scoped>\n",
       "    .dataframe tbody tr th:only-of-type {\n",
       "        vertical-align: middle;\n",
       "    }\n",
       "\n",
       "    .dataframe tbody tr th {\n",
       "        vertical-align: top;\n",
       "    }\n",
       "\n",
       "    .dataframe thead th {\n",
       "        text-align: right;\n",
       "    }\n",
       "</style>\n",
       "<table border=\"1\" class=\"dataframe\">\n",
       "  <thead>\n",
       "    <tr style=\"text-align: right;\">\n",
       "      <th></th>\n",
       "      <th>IDMeet</th>\n",
       "      <th>Sport</th>\n",
       "      <th>MeetName</th>\n",
       "      <th>SeasonId</th>\n",
       "      <th>StartDate</th>\n",
       "      <th>EndDate</th>\n",
       "      <th>Virtual</th>\n",
       "      <th>LocationName</th>\n",
       "      <th>StreetAddress</th>\n",
       "      <th>City</th>\n",
       "      <th>...</th>\n",
       "      <th>CalCount</th>\n",
       "      <th>OffDays</th>\n",
       "      <th>Data</th>\n",
       "      <th>rsUrl</th>\n",
       "      <th>LiveID</th>\n",
       "      <th>LivePublished</th>\n",
       "      <th>VideoURL</th>\n",
       "      <th>Website</th>\n",
       "      <th>Country</th>\n",
       "      <th>dt_retrieved</th>\n",
       "    </tr>\n",
       "  </thead>\n",
       "  <tbody>\n",
       "  </tbody>\n",
       "</table>\n",
       "<p>0 rows × 33 columns</p>\n",
       "</div>"
      ],
      "text/plain": [
       "Empty DataFrame\n",
       "Columns: [IDMeet, Sport, MeetName, SeasonId, StartDate, EndDate, Virtual, LocationName, StreetAddress, City, PostalCode, State, OwnerID, CalendarLock, UCalendarLock, RegEnd, HasResults, LevelMask, HostName, MascotUrl, Lat, Long, score, CalCount, OffDays, Data, rsUrl, LiveID, LivePublished, VideoURL, Website, Country, dt_retrieved]\n",
       "Index: []\n",
       "\n",
       "[0 rows x 33 columns]"
      ]
     },
     "execution_count": 17,
     "metadata": {},
     "output_type": "execute_result"
    }
   ],
   "source": [
    "df_events"
   ]
  },
  {
   "cell_type": "code",
   "execution_count": 18,
   "metadata": {},
   "outputs": [],
   "source": [
    "def df_fix_types(df, dict_schema):\n",
    "    \n",
    "    # Convert each column according to its type\n",
    "    for col, dtype in dict_schema.items():\n",
    "        if col in df.columns:\n",
    "            try:\n",
    "                if dtype == str:\n",
    "                    df[col] = df[col].astype('string')\n",
    "                elif dtype == int:\n",
    "                    #print(f\"Column type before conversion: {type(df[col])}\")\n",
    "                    df[col] = pd.to_numeric(df[col], errors='coerce').astype('Int64')\n",
    "                elif dtype == float:\n",
    "                    df[col] = pd.to_numeric(df[col], errors='coerce')\n",
    "                elif dtype == bool:\n",
    "                    df[col] = df[col].astype(bool)\n",
    "                elif dtype == 'datetime64[ns]':\n",
    "                    #df[col] = pd.to_datetime(df[col])\n",
    "                    df[col] = pd.to_datetime(df[col], format='ISO8601')\n",
    "            except Exception as e:\n",
    "                print(f\"Error converting column {col} to {dtype}: {str(e)}\")\n",
    "                raise\n",
    "    \n",
    "    return df"
   ]
  },
  {
   "cell_type": "code",
   "execution_count": 19,
   "metadata": {},
   "outputs": [],
   "source": [
    "def create_events_df(response, schema):\n",
    "    \"\"\"\n",
    "    Create a DataFrame from the API response using a provided schema.\n",
    "    \n",
    "    Args:\n",
    "        response: requests.Response object from the API call\n",
    "        schema: dict mapping column names to their intended data types\n",
    "        \n",
    "    Returns:\n",
    "        pandas.DataFrame: Properly typed DataFrame containing the events data\n",
    "    \"\"\"\n",
    "    \n",
    "    # Parse JSON response\n",
    "    data = response.json()\n",
    "    \n",
    "    # Convert events list to DataFrame\n",
    "    df = pd.DataFrame(data['events'])\n",
    "    \n",
    "    # Add retrieval timestamp for any datetime columns not in the response\n",
    "    for col, dtype in schema.items():\n",
    "        if dtype == 'datetime64[ns]' and col not in df.columns:\n",
    "            df[col] = pd.Timestamp.now()\n",
    "    \n",
    "    df = df_fix_types(df, schema)\n",
    "    \n",
    "    return df\n"
   ]
  },
  {
   "cell_type": "code",
   "execution_count": 20,
   "metadata": {},
   "outputs": [
    {
     "name": "stdout",
     "output_type": "stream",
     "text": [
      "Request successful!\n"
     ]
    }
   ],
   "source": [
    "#def add_events(df_events, state, dt_start, dt_end, country_2='US', level=4)\n",
    "\n",
    "country_2 = 'US'\n",
    "state_2 = 'MA'\n",
    "state_name = 'Massachusetts'\n",
    "\n",
    "dt_start = '2024-11-01'\n",
    "dt_end = '2024-11-30'\n",
    "\n",
    "url = 'https://www.athletic.net/api/v1/Event/Events'\n",
    "\n",
    "params = {\n",
    "    \"start\":dt_start,\n",
    "    \"end\":dt_end,\n",
    "    \"levelMask\":0,\n",
    "    \"sportMask\":0,\n",
    "    \"country\":country_2,\n",
    "    \"state\":state_2,\n",
    "    \"location\":\"\",\n",
    "    \"distanceKM\":0,\n",
    "    \"filterTerm\":\"\"}\n",
    "\n",
    "# Make the POST request\n",
    "headers = {\n",
    "    'content-type': 'application/json',\n",
    "    'authority': 'www.athletic.net',\n",
    "    'accept': 'application/json, text/plain, */*',\n",
    "    'accept-encoding': 'gzip, deflate, br, zstd',\n",
    "    'accept-language': 'en-US,en;q=0.9',\n",
    "    \n",
    "    # 'anet-appinfo': 'web:web:0:300',\n",
    "    # 'dnt': '1',\n",
    "    # 'origin': 'https://www.athletic.net',\n",
    "    # 'pageguid': 'c73bf291-0b5a-4062-a158-321e0c72c0f4',\n",
    "    # 'priority': 'u=1, i',\n",
    "    # 'referer': 'https://www.athletic.net/events/usa/massachusetts/2024-11-16;level=4',\n",
    "    # 'sec-ch-ua': '\"Chromium\";v=\"130\", \"Google Chrome\";v=\"130\", \"Not?A_Brand\";v=\"99\"',\n",
    "    # 'sec-ch-ua-mobile': '?0',\n",
    "    # 'sec-ch-ua-platform': '\"macOS\"',\n",
    "    # 'sec-fetch-dest': 'empty',\n",
    "    # 'sec-fetch-mode': 'cors',\n",
    "    # 'sec-fetch-site': 'same-origin',\n",
    "    # 'user-agent': 'Mozilla/5.0 (Macintosh; Intel Mac OS X 10_15_7) AppleWebKit/537.36 (KHTML, like Gecko) Chrome/130.0.0.0 Safari/537.36'\n",
    "}\n",
    "\n",
    "response = requests.post(url, json=params, headers=headers)\n",
    "\n",
    "# Check the response\n",
    "if response.status_code == 200:\n",
    "    print(\"Request successful!\")\n",
    "    \n",
    "    df_events_new = create_events_df(response, dict_schema_events)\n",
    "    \n",
    "else:\n",
    "    print(f\"Request failed with status code: {response.status_code}\")\n",
    "    print(f\"Response: {response.text}\")\n"
   ]
  },
  {
   "cell_type": "code",
   "execution_count": 21,
   "metadata": {},
   "outputs": [
    {
     "data": {
      "text/html": [
       "<div>\n",
       "<style scoped>\n",
       "    .dataframe tbody tr th:only-of-type {\n",
       "        vertical-align: middle;\n",
       "    }\n",
       "\n",
       "    .dataframe tbody tr th {\n",
       "        vertical-align: top;\n",
       "    }\n",
       "\n",
       "    .dataframe thead th {\n",
       "        text-align: right;\n",
       "    }\n",
       "</style>\n",
       "<table border=\"1\" class=\"dataframe\">\n",
       "  <thead>\n",
       "    <tr style=\"text-align: right;\">\n",
       "      <th></th>\n",
       "      <th>IDMeet</th>\n",
       "      <th>Sport</th>\n",
       "      <th>MeetName</th>\n",
       "      <th>SeasonId</th>\n",
       "      <th>StartDate</th>\n",
       "      <th>EndDate</th>\n",
       "      <th>Virtual</th>\n",
       "      <th>LocationName</th>\n",
       "      <th>StreetAddress</th>\n",
       "      <th>City</th>\n",
       "      <th>...</th>\n",
       "      <th>CalCount</th>\n",
       "      <th>OffDays</th>\n",
       "      <th>Data</th>\n",
       "      <th>rsUrl</th>\n",
       "      <th>LiveID</th>\n",
       "      <th>LivePublished</th>\n",
       "      <th>VideoURL</th>\n",
       "      <th>Website</th>\n",
       "      <th>Country</th>\n",
       "      <th>dt_retrieved</th>\n",
       "    </tr>\n",
       "  </thead>\n",
       "  <tbody>\n",
       "  </tbody>\n",
       "</table>\n",
       "<p>0 rows × 33 columns</p>\n",
       "</div>"
      ],
      "text/plain": [
       "Empty DataFrame\n",
       "Columns: [IDMeet, Sport, MeetName, SeasonId, StartDate, EndDate, Virtual, LocationName, StreetAddress, City, PostalCode, State, OwnerID, CalendarLock, UCalendarLock, RegEnd, HasResults, LevelMask, HostName, MascotUrl, Lat, Long, score, CalCount, OffDays, Data, rsUrl, LiveID, LivePublished, VideoURL, Website, Country, dt_retrieved]\n",
       "Index: []\n",
       "\n",
       "[0 rows x 33 columns]"
      ]
     },
     "execution_count": 21,
     "metadata": {},
     "output_type": "execute_result"
    }
   ],
   "source": [
    "df_events\n"
   ]
  },
  {
   "cell_type": "code",
   "execution_count": 22,
   "metadata": {},
   "outputs": [
    {
     "name": "stderr",
     "output_type": "stream",
     "text": [
      "/var/folders/0y/0zmp_q2d027bgwpkl0ykqpyc0000gn/T/ipykernel_91466/3674051029.py:3: FutureWarning: The behavior of DataFrame concatenation with empty or all-NA entries is deprecated. In a future version, this will no longer exclude empty or all-NA columns when determining the result dtypes. To retain the old behavior, exclude the relevant entries before the concat operation.\n",
      "  df_events = pd.concat([df_events, df_events_new], axis=0)\n"
     ]
    }
   ],
   "source": [
    "# Add to df_events\n",
    "\n",
    "df_events = pd.concat([df_events, df_events_new], axis=0)\n",
    "\n",
    "df_events = df_events.dropna(how='all')\n",
    "\n",
    "df_events = df_events.sort_values('dt_retrieved', ascending=True).drop_duplicates(subset=['IDMeet'], keep='last')\n",
    "\n",
    "df_events = df_fix_types(df_events, dict_schema_events)"
   ]
  },
  {
   "cell_type": "code",
   "execution_count": 23,
   "metadata": {},
   "outputs": [],
   "source": [
    "if FLAG_SAVE:\n",
    "    df_events.to_csv(pe, index=False)"
   ]
  },
  {
   "cell_type": "code",
   "execution_count": 24,
   "metadata": {},
   "outputs": [],
   "source": [
    "# https://www.athletic.net/api/v1/public/GetStatesCountries2\n"
   ]
  }
 ],
 "metadata": {
  "kernelspec": {
   "display_name": ".venv",
   "language": "python",
   "name": "python3"
  },
  "language_info": {
   "codemirror_mode": {
    "name": "ipython",
    "version": 3
   },
   "file_extension": ".py",
   "mimetype": "text/x-python",
   "name": "python",
   "nbconvert_exporter": "python",
   "pygments_lexer": "ipython3",
   "version": "3.9.6"
  }
 },
 "nbformat": 4,
 "nbformat_minor": 2
}
