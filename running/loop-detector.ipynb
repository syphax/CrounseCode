{
 "cells": [
  {
   "cell_type": "code",
   "execution_count": null,
   "metadata": {},
   "outputs": [],
   "source": [
    "import os\n",
    "\n",
    "import pandas as pd \n",
    "\n",
    "import gpxpy\n",
    "import geopy.distance\n",
    "\n",
    "import plotly.graph_objects as go\n"
   ]
  },
  {
   "cell_type": "code",
   "execution_count": null,
   "metadata": {},
   "outputs": [],
   "source": [
    "path_data = os.path.join('..', 'data')\n",
    "\n",
    "fn = 'Sunrise_5k_unclear_if_running_or_swimming.gpx'\n",
    "\n",
    "path_fn = os.path.join(path_data, fn)"
   ]
  },
  {
   "cell_type": "code",
   "execution_count": null,
   "metadata": {},
   "outputs": [],
   "source": [
    "\n",
    "gpx = gpxpy.parse(open(path_fn, 'r'))\n",
    "\n"
   ]
  },
  {
   "cell_type": "code",
   "execution_count": null,
   "metadata": {},
   "outputs": [],
   "source": [
    "def parse_gpx(gpx):\n",
    "\n",
    "    data = []\n",
    "    for track in gpx.tracks:\n",
    "        for segment in track.segments:\n",
    "            for point in segment.points:\n",
    "                data.append({\n",
    "                    'latitude': point.latitude,\n",
    "                    'longitude': point.longitude,\n",
    "                    'time': point.time\n",
    "                })\n",
    "    \n",
    "    df = pd.DataFrame(data)\n",
    "    df['time'] = pd.to_datetime(df['time'])\n",
    "    df['time_numeric'] = (df['time'] - df['time'].min()).dt.total_seconds()\n",
    "    \n",
    "    return df\n",
    "\n",
    "df = parse_gpx(gpx)"
   ]
  },
  {
   "cell_type": "code",
   "execution_count": null,
   "metadata": {},
   "outputs": [],
   "source": [
    "    print(f\"Number of tracks: {len(gpx.tracks)}\")\n",
    "    for i, track in enumerate(gpx.tracks):\n",
    "        print(f\"  Track {i+1}:\")\n",
    "        print(f\"    Name: {track.name}\")\n",
    "        print(f\"    Number of segments: {len(track.segments)}\")\n",
    "        for j, segment in enumerate(track.segments):\n",
    "            print(f\"      Segment {j+1}:\")\n",
    "            print(f\"        Number of points: {len(segment.points)}\")\n",
    "            if segment.points:\n",
    "                for i in range(0, 10):\n",
    "                    point = segment.points[i]\n",
    "                    print(f\"         Point: Lat {point.latitude}, Lon {point.longitude}, Time {point.time}\")\n"
   ]
  },
  {
   "cell_type": "code",
   "execution_count": null,
   "metadata": {},
   "outputs": [],
   "source": [
    "\n",
    "def visualize_3d_plotly(df):\n",
    "    fig = go.Figure(data=[go.Scatter3d(\n",
    "        x=df['longitude'],\n",
    "        y=df['latitude'],\n",
    "        z=df['time_numeric'],\n",
    "        mode='markers',\n",
    "        marker=dict(\n",
    "            size=2,\n",
    "            color=df['time_numeric'],\n",
    "            colorscale='Viridis',\n",
    "            opacity=0.8\n",
    "        )\n",
    "    )])\n",
    "    \n",
    "    fig.update_layout(\n",
    "        scene=dict(\n",
    "            xaxis_title='Longitude',\n",
    "            yaxis_title='Latitude',\n",
    "            zaxis_title='Time (seconds)'\n",
    "        ),\n",
    "        title='3D GPX Visualization'\n",
    "    )\n",
    "    \n",
    "    fig.show()\n",
    "\n",
    "visualize_3d_plotly(df)"
   ]
  },
  {
   "cell_type": "code",
   "execution_count": null,
   "metadata": {},
   "outputs": [],
   "source": []
  }
 ],
 "metadata": {
  "kernelspec": {
   "display_name": "Python 3",
   "language": "python",
   "name": "python3"
  },
  "language_info": {
   "codemirror_mode": {
    "name": "ipython",
    "version": 3
   },
   "file_extension": ".py",
   "mimetype": "text/x-python",
   "name": "python",
   "nbconvert_exporter": "python",
   "pygments_lexer": "ipython3",
   "version": "3.9.6"
  }
 },
 "nbformat": 4,
 "nbformat_minor": 2
}
